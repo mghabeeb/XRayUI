{
 "cells": [
  {
   "cell_type": "code",
   "execution_count": 1,
   "metadata": {},
   "outputs": [],
   "source": [
    "import cv2\n",
    "import time\n",
    "\n",
    "\n",
    "# cap = cv2.VideoCapture('rtmp://127.0.0.1/live')\n",
    "# cap = cv2.VideoCapture('udp://@10.0.0.184:9999',cv2.CAP_ANY)\n",
    "cap = cv2.VideoCapture('udp://@127.0.0.1:9999',cv2.CAP_ANY)\n",
    "\n",
    "while (cap.isOpened()):  \n",
    "    ret, frame = cap.read()\n",
    "#     print(frame.shape[0])\n",
    "    cv2.imshow('frame', frame)\n",
    "    \n",
    "\n",
    "    if cv2.waitKey(1)&0XFF == ord('q'):\n",
    "        break\n",
    "\n",
    "         \n",
    "cap.release()\n",
    "cv2.destroyAllWindows()\n",
    "\n"
   ]
  }
 ],
 "metadata": {
  "kernelspec": {
   "display_name": "Python 3",
   "language": "python",
   "name": "python3"
  },
  "language_info": {
   "codemirror_mode": {
    "name": "ipython",
    "version": 3
   },
   "file_extension": ".py",
   "mimetype": "text/x-python",
   "name": "python",
   "nbconvert_exporter": "python",
   "pygments_lexer": "ipython3",
   "version": "3.6.4"
  }
 },
 "nbformat": 4,
 "nbformat_minor": 2
}
